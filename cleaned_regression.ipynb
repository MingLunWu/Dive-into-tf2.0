{
 "cells": [
  {
   "cell_type": "markdown",
   "metadata": {},
   "source": [
    "## 簡潔版 Linear Regression"
   ]
  },
  {
   "cell_type": "markdown",
   "metadata": {},
   "source": [
    "剛剛是自己動手寫各種Function. 在此介紹Tensorflow的內建Function."
   ]
  },
  {
   "cell_type": "markdown",
   "metadata": {},
   "source": [
    "## 生成數據集"
   ]
  },
  {
   "cell_type": "code",
   "execution_count": 1,
   "metadata": {},
   "outputs": [],
   "source": [
    "import tensorflow as tf\n",
    "\n",
    "num_inputs = 2\n",
    "num_examples = 1000\n",
    "true_w = [2, -3.4]\n",
    "true_b = 4.2\n",
    "features = tf.random.normal(shape=(num_examples, num_inputs), stddev=1)\n",
    "labels = true_w[0] * features[:, 0] + true_w[1] * features[:, 1] + true_b\n",
    "labels += tf.random.normal(labels.shape, stddev=0.01)"
   ]
  },
  {
   "cell_type": "markdown",
   "metadata": {},
   "source": [
    "## 讀取數據"
   ]
  },
  {
   "cell_type": "code",
   "execution_count": 2,
   "metadata": {},
   "outputs": [],
   "source": [
    "from tensorflow import data as tfdata\n",
    "\n",
    "batch_size = 10\n",
    "# 直接透過tensor餵入即可。\n",
    "dataset = tfdata.Dataset.from_tensor_slices((features, labels))\n",
    "\n",
    "dataset = dataset.shuffle(buffer_size=num_examples) # buffer size 要大於等於資料量。\n",
    "dataset = dataset.batch(batch_size)\n",
    "data_iter = iter(dataset)"
   ]
  },
  {
   "cell_type": "code",
   "execution_count": 6,
   "metadata": {},
   "outputs": [
    {
     "data": {
      "text/plain": [
       "(<tf.Tensor: id=44, shape=(10, 2), dtype=float32, numpy=\n",
       " array([[-0.6637609 , -0.8085974 ],\n",
       "        [-1.2834051 , -1.196332  ],\n",
       "        [ 0.48953813,  0.99965465],\n",
       "        [-0.17394091, -1.692428  ],\n",
       "        [-0.85391676, -0.62807006],\n",
       "        [-1.097466  , -0.35862726],\n",
       "        [-0.58516395,  0.79947895],\n",
       "        [-0.53791046, -0.6792894 ],\n",
       "        [ 0.758931  ,  0.0370138 ],\n",
       "        [ 0.6877909 ,  0.18101417]], dtype=float32)>,\n",
       " <tf.Tensor: id=45, shape=(10,), dtype=float32, numpy=\n",
       " array([5.631625 , 5.698351 , 1.7889863, 9.628357 , 4.6288166, 3.224723 ,\n",
       "        0.3062935, 5.421367 , 5.5969596, 4.9537306], dtype=float32)>)"
      ]
     },
     "execution_count": 6,
     "metadata": {},
     "output_type": "execute_result"
    }
   ],
   "source": [
    "next(data_iter)"
   ]
  },
  {
   "cell_type": "code",
   "execution_count": 7,
   "metadata": {},
   "outputs": [
    {
     "name": "stdout",
     "output_type": "stream",
     "text": [
      "(0, (<tf.Tensor: id=51, shape=(10, 2), dtype=float32, numpy=\n",
      "array([[-0.69151026,  0.43541056],\n",
      "       [-0.3707639 , -0.8472691 ],\n",
      "       [-0.95836765, -0.5421561 ],\n",
      "       [-0.8518849 ,  0.12394872],\n",
      "       [ 0.76590306, -1.2388538 ],\n",
      "       [-0.01132818,  0.95249385],\n",
      "       [-1.0080208 , -1.64112   ],\n",
      "       [-0.6822649 ,  0.10336093],\n",
      "       [-0.6940032 , -0.6383262 ],\n",
      "       [ 0.85116905, -0.21288364]], dtype=float32)>, <tf.Tensor: id=52, shape=(10,), dtype=float32, numpy=\n",
      "array([1.3330171 , 6.3538446 , 4.128469  , 2.081712  , 9.951288  ,\n",
      "       0.92697877, 7.7580466 , 2.478191  , 4.967567  , 6.6169662 ],\n",
      "      dtype=float32)>))\n"
     ]
    }
   ],
   "source": [
    "for i in enumerate(dataset):\n",
    "    print(i)\n",
    "    break"
   ]
  },
  {
   "cell_type": "markdown",
   "metadata": {},
   "source": [
    "## 建構Model"
   ]
  },
  {
   "cell_type": "code",
   "execution_count": 8,
   "metadata": {},
   "outputs": [],
   "source": [
    "from tensorflow import keras\n",
    "from tensorflow.keras import layers\n",
    "from tensorflow import initializers as init\n",
    "model = keras.Sequential()\n",
    "model.add(layers.Dense(1, kernel_initializer=init.RandomNormal(stddev=0.01)))"
   ]
  },
  {
   "cell_type": "markdown",
   "metadata": {},
   "source": [
    "## 定義損失函數"
   ]
  },
  {
   "cell_type": "code",
   "execution_count": 16,
   "metadata": {},
   "outputs": [],
   "source": [
    "from tensorflow import losses\n",
    "loss = losses.MeanSquaredError()"
   ]
  },
  {
   "cell_type": "markdown",
   "metadata": {},
   "source": [
    "## 定義優化方法"
   ]
  },
  {
   "cell_type": "code",
   "execution_count": 17,
   "metadata": {},
   "outputs": [],
   "source": [
    "from tensorflow.keras import optimizers\n",
    "trainer = optimizers.SGD(learning_rate=0.03)"
   ]
  },
  {
   "cell_type": "markdown",
   "metadata": {},
   "source": [
    "## 設計整個model flow"
   ]
  },
  {
   "cell_type": "code",
   "execution_count": 18,
   "metadata": {},
   "outputs": [
    {
     "name": "stdout",
     "output_type": "stream",
     "text": [
      "epoch 1, loss: 0.000217\n",
      "epoch 2, loss: 0.000100\n",
      "epoch 3, loss: 0.000100\n"
     ]
    }
   ],
   "source": [
    "num_epochs = 3\n",
    "for epoch in range(1, num_epochs + 1):\n",
    "    for (batch, (X, y)) in enumerate(dataset):\n",
    "        with tf.GradientTape() as tape:\n",
    "            l = loss(model(X, training=True), y)\n",
    "\n",
    "        grads = tape.gradient(l, model.trainable_variables)\n",
    "        trainer.apply_gradients(zip(grads, model.trainable_variables))\n",
    "\n",
    "    l = loss(model(features), labels)\n",
    "    print('epoch %d, loss: %f' % (epoch, l.numpy().mean()))"
   ]
  },
  {
   "cell_type": "code",
   "execution_count": 29,
   "metadata": {},
   "outputs": [
    {
     "data": {
      "text/plain": [
       "([2, -3.4], array([[ 1.9996798],\n",
       "        [-3.4005053]], dtype=float32))"
      ]
     },
     "execution_count": 29,
     "metadata": {},
     "output_type": "execute_result"
    }
   ],
   "source": [
    "true_w, model.get_weights()[0]"
   ]
  }
 ],
 "metadata": {
  "kernelspec": {
   "display_name": "Python(tf2)",
   "language": "python",
   "name": "tf2"
  },
  "language_info": {
   "codemirror_mode": {
    "name": "ipython",
    "version": 3
   },
   "file_extension": ".py",
   "mimetype": "text/x-python",
   "name": "python",
   "nbconvert_exporter": "python",
   "pygments_lexer": "ipython3",
   "version": "3.7.6"
  }
 },
 "nbformat": 4,
 "nbformat_minor": 4
}
